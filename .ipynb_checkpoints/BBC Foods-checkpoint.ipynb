{
 "cells": [
  {
   "cell_type": "code",
   "execution_count": 2,
   "id": "1f8b5787",
   "metadata": {},
   "outputs": [],
   "source": [
    "from selenium import webdriver\n",
    "from selenium.webdriver.chrome.service import Service\n",
    "from selenium.webdriver.common.by import By\n",
    "from selenium.webdriver.support import expected_conditions as EC\n",
    "import pyautogui\n",
    "import time\n",
    "import re"
   ]
  },
  {
   "cell_type": "code",
   "execution_count": 3,
   "id": "47b3b8ff",
   "metadata": {},
   "outputs": [],
   "source": [
    "ops=webdriver.ChromeOptions()\n",
    "ops.add_argument(\"--disable-notifications\")"
   ]
  },
  {
   "cell_type": "code",
   "execution_count": 4,
   "id": "f5e809d2",
   "metadata": {},
   "outputs": [],
   "source": [
    "srv=Service(\"C:\\py_selenium\\chromedriver_win32\\chromedriver.exe\")\n",
    "driver=webdriver.Chrome(service=srv,options=ops)"
   ]
  },
  {
   "cell_type": "code",
   "execution_count": 5,
   "id": "a44f7ce3",
   "metadata": {},
   "outputs": [],
   "source": [
    "driver.get(\"https://www.bbcgoodfood.com/\")\n",
    "driver.maximize_window()"
   ]
  },
  {
   "cell_type": "code",
   "execution_count": null,
   "id": "c106577d",
   "metadata": {},
   "outputs": [],
   "source": [
    "# import time\n",
    "# time.sleep(5)\n",
    "# driver.find_element(By.XPATH,\"//button[text()='AGREE']\").click()"
   ]
  },
  {
   "cell_type": "code",
   "execution_count": 6,
   "id": "dbd7faa7",
   "metadata": {},
   "outputs": [],
   "source": [
    "# alert=driver.switch_to.alert\n",
    "# print(alert.text)\n",
    "screen_width, screen_height = pyautogui.size()\n",
    "x = int(screen_width * 0.6)  # Adjust as needed\n",
    "y = int(screen_height * 0.75)  # Adjust as needed\n",
    "\n",
    "pyautogui.moveTo(x, y)\n",
    "pyautogui.click()\n",
    "time.sleep(2)"
   ]
  },
  {
   "cell_type": "code",
   "execution_count": null,
   "id": "c1447d5b",
   "metadata": {},
   "outputs": [],
   "source": []
  },
  {
   "cell_type": "code",
   "execution_count": null,
   "id": "dfe735ec",
   "metadata": {},
   "outputs": [],
   "source": []
  },
  {
   "cell_type": "code",
   "execution_count": null,
   "id": "53b3df0e",
   "metadata": {},
   "outputs": [],
   "source": []
  },
  {
   "cell_type": "code",
   "execution_count": null,
   "id": "c950f045",
   "metadata": {},
   "outputs": [],
   "source": []
  },
  {
   "cell_type": "code",
   "execution_count": null,
   "id": "328e4827",
   "metadata": {},
   "outputs": [],
   "source": []
  },
  {
   "cell_type": "code",
   "execution_count": null,
   "id": "1bc6ce45",
   "metadata": {},
   "outputs": [],
   "source": []
  }
 ],
 "metadata": {
  "kernelspec": {
   "display_name": "Python 3 (ipykernel)",
   "language": "python",
   "name": "python3"
  },
  "language_info": {
   "codemirror_mode": {
    "name": "ipython",
    "version": 3
   },
   "file_extension": ".py",
   "mimetype": "text/x-python",
   "name": "python",
   "nbconvert_exporter": "python",
   "pygments_lexer": "ipython3",
   "version": "3.10.7"
  }
 },
 "nbformat": 4,
 "nbformat_minor": 5
}

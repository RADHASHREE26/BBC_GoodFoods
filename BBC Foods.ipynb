{
 "cells": [
  {
   "cell_type": "code",
   "execution_count": 2,
   "id": "1f8b5787",
   "metadata": {},
   "outputs": [],
   "source": [
    "from selenium import webdriver\n",
    "from selenium.webdriver.chrome.service import Service\n",
    "from selenium.webdriver.common.by import By\n",
    "from selenium.webdriver.support import expected_conditions as EC\n",
    "import pyautogui\n",
    "import time\n",
    "import re"
   ]
  },
  {
   "cell_type": "code",
   "execution_count": 3,
   "id": "47b3b8ff",
   "metadata": {},
   "outputs": [],
   "source": [
    "ops=webdriver.ChromeOptions()\n",
    "ops.add_argument(\"--disable-notifications\")"
   ]
  },
  {
   "cell_type": "code",
   "execution_count": 4,
   "id": "f5e809d2",
   "metadata": {},
   "outputs": [
    {
     "name": "stderr",
     "output_type": "stream",
     "text": [
      "Incompatible release of chromedriver (version 113.0.5672.63) detected in PATH: C:\\webdrivers\\chromedriver.exe\n"
     ]
    }
   ],
   "source": [
    "srv=Service(\"C:\\py_selenium\\chromedriver_win32\\chromedriver.exe\")\n",
    "driver=webdriver.Chrome(service=srv,options=ops)"
   ]
  },
  {
   "cell_type": "code",
   "execution_count": 5,
   "id": "a44f7ce3",
   "metadata": {},
   "outputs": [],
   "source": [
    "driver.get(\"https://www.bbcgoodfood.com/\")\n",
    "driver.maximize_window()"
   ]
  },
  {
   "cell_type": "code",
   "execution_count": null,
   "id": "c106577d",
   "metadata": {},
   "outputs": [],
   "source": [
    "# import time\n",
    "# time.sleep(5)\n",
    "# driver.find_element(By.XPATH,\"//button[text()='AGREE']\").click()"
   ]
  },
  {
   "cell_type": "code",
   "execution_count": 6,
   "id": "dbd7faa7",
   "metadata": {},
   "outputs": [],
   "source": [
    "# alert=driver.switch_to.alert\n",
    "# print(alert.text)\n",
    "screen_width, screen_height = pyautogui.size()\n",
    "x = int(screen_width * 0.6)  # Adjust as needed\n",
    "y = int(screen_height * 0.75)  # Adjust as needed\n",
    "\n",
    "pyautogui.moveTo(x, y)\n",
    "pyautogui.click()\n",
    "time.sleep(2)"
   ]
  },
  {
   "cell_type": "code",
   "execution_count": null,
   "id": "c1447d5b",
   "metadata": {},
   "outputs": [],
   "source": []
  },
  {
   "cell_type": "code",
   "execution_count": 7,
   "id": "dfe735ec",
   "metadata": {},
   "outputs": [],
   "source": [
    "from bs4 import BeautifulSoup\n",
    "import requests"
   ]
  },
  {
   "cell_type": "code",
   "execution_count": null,
   "id": "53b3df0e",
   "metadata": {},
   "outputs": [],
   "source": []
  },
  {
   "cell_type": "code",
   "execution_count": 8,
   "id": "c950f045",
   "metadata": {},
   "outputs": [],
   "source": [
    "def func_time(ul_element):\n",
    "    first_li = ul_element.find_all('li')[0]\n",
    "\n",
    "    prep_time_ul = first_li.find('ul', class_='list')\n",
    "\n",
    "    prep_ele = prep_time_ul.find('li')\n",
    "    prep_text = prep_ele.get_text(separator=' ', strip=True) if prep_ele else None\n",
    "    # print(prep_text)\n",
    "\n",
    "    cook_ele = prep_ele.find_next_sibling('li')\n",
    "    cook_text = cook_ele.get_text(separator=' ', strip=True) if cook_ele else None\n",
    "    # print(cook_text)\n",
    "    return prep_text, cook_text\n",
    "\n",
    "\n",
    "\n",
    "def func_difficulty(ul_element):\n",
    "    if ul_element.find('div', class_='post-header__skill-level'):\n",
    "        return ul_element.find('div', class_='post-header__skill-level').get_text(strip=True)\n",
    "    else:\n",
    "        return None\n",
    "\n",
    "    \n",
    "def func_serves(ul_element):\n",
    "    if ul_element.find('div', class_='post-header__servings'):\n",
    "        return ul_element.find('div', class_='post-header__servings').get_text(strip=True)\n",
    "    else:\n",
    "        return None\n",
    "\n",
    "def func_nutritional_vals(doc):\n",
    "    nutrition_table = doc.find('table', class_=\"key-value-blocks\")\n",
    "    #print(nutrition_table.caption.string)\n",
    "\n",
    "    tbodies = nutrition_table.find_all('tbody')\n",
    "    nutrition_values = []\n",
    "\n",
    "    for tbody in tbodies:\n",
    "        for row in tbody.find_all('tr'):\n",
    "            tdata = row.find_all('td')\n",
    "            if len(tdata) >= 2:\n",
    "                nutrition_values.append((tdata[1].get_text(strip=True), tdata[-1].get_text(strip=True)))\n",
    "    #print(nutrition_values)\n",
    "    return nutrition_values\n",
    "                \n",
    "\n",
    "def func_rating(doc):\n",
    "    if not doc.find('div', class_='rating__values'):\n",
    "        return None\n",
    "\n",
    "    rating_string = doc.find('div', class_='rating__values').select('span.sr-only')[0].get_text(strip=True)\n",
    "    rating_match = re.findall(r'\\d+(?:\\.\\d+)?', rating_string)\n",
    "    rating = float(rating_match[0]) if rating_match else None\n",
    "    # print(rating)\n",
    "\n",
    "    rating_count = doc.select('span.rating__count-text')[0].get_text(strip=True)\n",
    "    # print(rating_count)\n",
    "    return rating,rating_count"
   ]
  },
  {
   "cell_type": "code",
   "execution_count": 9,
   "id": "328e4827",
   "metadata": {},
   "outputs": [],
   "source": [
    "def func_scrape_dets(url):\n",
    "    response = requests.get(url)\n",
    "    doc = BeautifulSoup(response.content, \"html.parser\")\n",
    "    title = doc.find(class_=\"heading-1\")\n",
    "    print(title.text)\n",
    "    \n",
    "    #func_scrape_dets(parent[0])\n",
    "    \n",
    "    ul_element = doc.find('ul', class_=\"post-header__planning\")\n",
    "    #ul_children = ul_element.children\n",
    "    \n",
    "    #li_elements = [child for child in ul_children if child.name == 'li']\n",
    "    \n",
    "    #getting prep and cook time\n",
    "    time = func_time(ul_element)\n",
    "    \n",
    "    #getting difficulty\n",
    "    difficulty = func_difficulty(ul_element)\n",
    "    \n",
    "    #getting serves\n",
    "    serves = func_serves(ul_element)\n",
    "    \n",
    "    #getting nutritional values\n",
    "    nutritions = func_nutritional_vals(doc)\n",
    "    \n",
    "    #getting ratings for popularity        \n",
    "    rating = func_rating(doc)\n",
    "    \n",
    "    print(time)\n",
    "    print(difficulty)\n",
    "    print(serves)\n",
    "    print(nutritions)\n",
    "    print(rating)"
   ]
  },
  {
   "cell_type": "code",
   "execution_count": 10,
   "id": "1bc6ce45",
   "metadata": {},
   "outputs": [],
   "source": [
    "# func_scrape_dets(parent[0])"
   ]
  },
  {
   "cell_type": "code",
   "execution_count": 11,
   "id": "effa6dda",
   "metadata": {},
   "outputs": [
    {
     "name": "stdout",
     "output_type": "stream",
     "text": [
      "Chicken & chorizo jambalaya\n",
      "('Prep: 10 mins', 'Cook: 45 mins')\n",
      "Easy\n",
      "Serves 4\n",
      "[('kcal', '445'), ('fat', '10g'), ('saturates', '3g'), ('carbs', '64g'), ('sugars', '7g'), ('fibre', '2g'), ('protein', '30g'), ('salt', '1.2g')]\n",
      "(4.8, '2544 ratings')\n"
     ]
    }
   ],
   "source": [
    "func_scrape_dets(\"https://www.bbcgoodfood.com/recipes/chicken-chorizo-jambalaya\")"
   ]
  },
  {
   "cell_type": "code",
   "execution_count": 12,
   "id": "c1b3363a",
   "metadata": {},
   "outputs": [],
   "source": [
    "ingredients=[\"chicken\", \"mushroom\", \"fish\", \"egg\", \"paneer\", \"beef\", \"soy bean\"]"
   ]
  },
  {
   "cell_type": "code",
   "execution_count": 13,
   "id": "c75e33b3",
   "metadata": {},
   "outputs": [],
   "source": [
    "parent=[]\n",
    "\n",
    "def func_getItems(driver):\n",
    "    item=driver.find_elements(By.CLASS_NAME,\"heading-4\")\n",
    "    item=item[1:len(item)-1]\n",
    "    for i in range(len(item)):\n",
    "        parent.append(item[i].find_element(By.XPATH,\"./parent::a\").get_attribute('href'))"
   ]
  },
  {
   "cell_type": "code",
   "execution_count": null,
   "id": "abf9e63d",
   "metadata": {},
   "outputs": [],
   "source": []
  },
  {
   "cell_type": "code",
   "execution_count": null,
   "id": "7c0c5610",
   "metadata": {},
   "outputs": [],
   "source": []
  },
  {
   "cell_type": "code",
   "execution_count": null,
   "id": "2b2bf9cf",
   "metadata": {},
   "outputs": [],
   "source": []
  },
  {
   "cell_type": "code",
   "execution_count": null,
   "id": "89a838c7",
   "metadata": {},
   "outputs": [],
   "source": []
  }
 ],
 "metadata": {
  "kernelspec": {
   "display_name": "Python 3 (ipykernel)",
   "language": "python",
   "name": "python3"
  },
  "language_info": {
   "codemirror_mode": {
    "name": "ipython",
    "version": 3
   },
   "file_extension": ".py",
   "mimetype": "text/x-python",
   "name": "python",
   "nbconvert_exporter": "python",
   "pygments_lexer": "ipython3",
   "version": "3.10.7"
  }
 },
 "nbformat": 4,
 "nbformat_minor": 5
}
